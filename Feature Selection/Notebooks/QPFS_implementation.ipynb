{
  "cells": [
    {
      "cell_type": "code",
      "execution_count": null,
      "metadata": {
        "colab": {
          "background_save": true
        },
        "id": "gqtlSH4wnz_-",
        "outputId": "849efa51-a6be-4875-f4df-22d6dd1323e7"
      },
      "outputs": [
        {
          "name": "stdout",
          "output_type": "stream",
          "text": [
            "Mounted at /content/drive\n"
          ]
        }
      ],
      "source": [
        "from google.colab import drive\n",
        "drive.mount('/content/drive')"
      ]
    },
    {
      "cell_type": "code",
      "execution_count": null,
      "metadata": {
        "id": "XoGsUVfyoKHX"
      },
      "outputs": [],
      "source": [
        "from sklearn import datasets\n",
        "import numpy as np"
      ]
    },
    {
      "cell_type": "markdown",
      "source": [
        "Loading the Dataset"
      ],
      "metadata": {
        "id": "aM2rnwntDqEq"
      }
    },
    {
      "cell_type": "code",
      "source": [
        "iris = datasets.load_iris()\n",
        "numpy_data = np.array(iris.data)\n",
        "numpy_label = np.array(iris.target)\n",
        "label_names = np.array(iris.target_names)"
      ],
      "metadata": {
        "id": "CutdZlQwADXu"
      },
      "execution_count": null,
      "outputs": []
    },
    {
      "cell_type": "markdown",
      "source": [
        "Find the Pearson Correlation coefficient"
      ],
      "metadata": {
        "id": "YylLEHSrDwbI"
      }
    },
    {
      "cell_type": "code",
      "source": [
        "cov_matrix = np.cov(numpy_data, rowvar = False)\n",
        "std_devs = np.sqrt(np.diag(cov_matrix))\n",
        "Q = np.abs(cov_matrix / np.outer(std_devs, std_devs))\n",
        "print(Q)"
      ],
      "metadata": {
        "colab": {
          "base_uri": "https://localhost:8080/"
        },
        "id": "ASs4s5YTAji6",
        "outputId": "2d96a2e0-39c3-47a0-b75d-5dfe4e81e1b7"
      },
      "execution_count": null,
      "outputs": [
        {
          "output_type": "stream",
          "name": "stdout",
          "text": [
            "[[1.         0.11756978 0.87175378 0.81794113]\n",
            " [0.11756978 1.         0.4284401  0.36612593]\n",
            " [0.87175378 0.4284401  1.         0.96286543]\n",
            " [0.81794113 0.36612593 0.96286543 1.        ]]\n"
          ]
        }
      ]
    },
    {
      "cell_type": "markdown",
      "source": [
        "Find the Relevance matrix"
      ],
      "metadata": {
        "id": "OwNyi-kmEA5i"
      }
    },
    {
      "cell_type": "code",
      "source": [
        "# This cell indivisually find Relevance matrix and Redundency matrix\n",
        "# ,but this is not my code i go it from chatGPT\n",
        "# dude we are not learning we should use numpy for implementation for everything i say.\n",
        "\n",
        "import numpy as np\n",
        "from sklearn.datasets import load_iris\n",
        "from sklearn.feature_selection import mutual_info_classif\n",
        "from sklearn.feature_selection import mutual_info_regression\n",
        "\n",
        "# Load Iris dataset\n",
        "data = load_iris()\n",
        "X = data.data  # Features (continuous)\n",
        "y = data.target  # Target (discrete)\n",
        "\n",
        "# Calculate the mutual information between each feature and the target class (classification)\n",
        "mi_classif = mutual_info_classif(X, y)\n",
        "\n",
        "# Calculate the mutual information between pairs of features\n",
        "n_features = X.shape[1]\n",
        "mi_features = np.zeros((n_features, n_features))\n",
        "\n",
        "# Mutual information between each pair of features\n",
        "for i in range(n_features):\n",
        "    for j in range(i, n_features):\n",
        "        # Calculate mutual information between features i and j\n",
        "        mi_value = mutual_info_regression(X[:, [i]], X[:, [j]])[0]\n",
        "        mi_features[i, j] = mi_value\n",
        "        mi_features[j, i] = mi_value  # Ensure the matrix is symmetric\n",
        "\n",
        "# Display mutual information results\n",
        "print(\"Relevance (mutual information) between each feature and target:\")\n",
        "for i, feature_name in enumerate(data.feature_names):\n",
        "    print(f\"{feature_name}: {mi_classif[i]}\")\n",
        "\n",
        "print(\"\\nCorrelation Matrix (mutual information) between features:\")\n",
        "print(mi_features)"
      ],
      "metadata": {
        "colab": {
          "base_uri": "https://localhost:8080/"
        },
        "id": "mNHHjSJtD8XW",
        "outputId": "e4da7bda-6dc6-46c9-e03b-8f1fec98e6aa"
      },
      "execution_count": null,
      "outputs": [
        {
          "output_type": "stream",
          "name": "stdout",
          "text": [
            "Relevance (mutual information) between each feature and target:\n",
            "sepal length (cm): 0.4802179192585092\n",
            "sepal width (cm): 0.30931402205031056\n",
            "petal length (cm): 0.9991366868490796\n",
            "petal width (cm): 0.9922809812952726\n",
            "\n",
            "Correlation Matrix (mutual information) between features:\n",
            "[[3.2198285  0.23232559 0.83616079 0.60974561]\n",
            " [0.23232559 2.66909086 0.32342053 0.42996714]\n",
            " [0.83616079 0.32342053 3.18001897 1.23153237]\n",
            " [0.60974561 0.42996714 1.23153237 2.69329115]]\n"
          ]
        },
        {
          "output_type": "stream",
          "name": "stderr",
          "text": [
            "/usr/local/lib/python3.10/dist-packages/sklearn/utils/validation.py:1408: DataConversionWarning: A column-vector y was passed when a 1d array was expected. Please change the shape of y to (n_samples, ), for example using ravel().\n",
            "  y = column_or_1d(y, warn=True)\n",
            "/usr/local/lib/python3.10/dist-packages/sklearn/utils/validation.py:1408: DataConversionWarning: A column-vector y was passed when a 1d array was expected. Please change the shape of y to (n_samples, ), for example using ravel().\n",
            "  y = column_or_1d(y, warn=True)\n",
            "/usr/local/lib/python3.10/dist-packages/sklearn/utils/validation.py:1408: DataConversionWarning: A column-vector y was passed when a 1d array was expected. Please change the shape of y to (n_samples, ), for example using ravel().\n",
            "  y = column_or_1d(y, warn=True)\n",
            "/usr/local/lib/python3.10/dist-packages/sklearn/utils/validation.py:1408: DataConversionWarning: A column-vector y was passed when a 1d array was expected. Please change the shape of y to (n_samples, ), for example using ravel().\n",
            "  y = column_or_1d(y, warn=True)\n",
            "/usr/local/lib/python3.10/dist-packages/sklearn/utils/validation.py:1408: DataConversionWarning: A column-vector y was passed when a 1d array was expected. Please change the shape of y to (n_samples, ), for example using ravel().\n",
            "  y = column_or_1d(y, warn=True)\n",
            "/usr/local/lib/python3.10/dist-packages/sklearn/utils/validation.py:1408: DataConversionWarning: A column-vector y was passed when a 1d array was expected. Please change the shape of y to (n_samples, ), for example using ravel().\n",
            "  y = column_or_1d(y, warn=True)\n",
            "/usr/local/lib/python3.10/dist-packages/sklearn/utils/validation.py:1408: DataConversionWarning: A column-vector y was passed when a 1d array was expected. Please change the shape of y to (n_samples, ), for example using ravel().\n",
            "  y = column_or_1d(y, warn=True)\n",
            "/usr/local/lib/python3.10/dist-packages/sklearn/utils/validation.py:1408: DataConversionWarning: A column-vector y was passed when a 1d array was expected. Please change the shape of y to (n_samples, ), for example using ravel().\n",
            "  y = column_or_1d(y, warn=True)\n",
            "/usr/local/lib/python3.10/dist-packages/sklearn/utils/validation.py:1408: DataConversionWarning: A column-vector y was passed when a 1d array was expected. Please change the shape of y to (n_samples, ), for example using ravel().\n",
            "  y = column_or_1d(y, warn=True)\n",
            "/usr/local/lib/python3.10/dist-packages/sklearn/utils/validation.py:1408: DataConversionWarning: A column-vector y was passed when a 1d array was expected. Please change the shape of y to (n_samples, ), for example using ravel().\n",
            "  y = column_or_1d(y, warn=True)\n"
          ]
        }
      ]
    },
    {
      "cell_type": "code",
      "source": [],
      "metadata": {
        "id": "JbeaMHu-TsG6"
      },
      "execution_count": null,
      "outputs": []
    }
  ],
  "metadata": {
    "colab": {
      "provenance": []
    },
    "kernelspec": {
      "display_name": "Python 3",
      "name": "python3"
    },
    "language_info": {
      "name": "python"
    }
  },
  "nbformat": 4,
  "nbformat_minor": 0
}